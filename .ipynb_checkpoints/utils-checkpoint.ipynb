{
 "cells": [
  {
   "cell_type": "code",
   "execution_count": 28,
   "metadata": {},
   "outputs": [],
   "source": [
    "import numpy as np\n",
    "from scipy import integrate\n",
    "from scipy import misc\n",
    "import math\n",
    "\n",
    "def hole_a(fx,mm=0):\n",
    "    r_area = lambda theta,lmm=0: .5*(fx(theta,lmm)**2)\n",
    "    return integrate.quad(r_area, 0, 2*math.pi, args=[mm])[0]\n",
    "\n",
    "def hole_c(fx,mm=0):\n",
    "    drdtheta = lambda theta,mm=0: misc.derivative(fx, theta, args=[mm])\n",
    "    fx_circum = lambda theta,mm=0: np.sqrt(fx(theta,mm)**2 + drdtheta(theta,mm)**2)\n",
    "    return integrate.quad(fx_circum, 0, 2*math.pi, args=[mm])[0]\n",
    "\n",
    "# r = lambda x,y: 1\n",
    "# hole_a(r,0)\n",
    "# hole_c(r,0)"
   ]
  }
 ],
 "metadata": {
  "kernelspec": {
   "display_name": "Python 3",
   "language": "python",
   "name": "python3"
  },
  "language_info": {
   "codemirror_mode": {
    "name": "ipython",
    "version": 3
   },
   "file_extension": ".py",
   "mimetype": "text/x-python",
   "name": "python",
   "nbconvert_exporter": "python",
   "pygments_lexer": "ipython3",
   "version": "3.7.2"
  }
 },
 "nbformat": 4,
 "nbformat_minor": 2
}
